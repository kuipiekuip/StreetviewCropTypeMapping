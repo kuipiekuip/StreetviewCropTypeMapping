{
 "cells": [
  {
   "cell_type": "code",
   "execution_count": 5,
   "metadata": {},
   "outputs": [
    {
     "name": "stdout",
     "output_type": "stream",
     "text": [
      "  WOONPLAATS           WIJK             BUURT            GROENGEBIE  \\\n",
      "0      Delft   25 Buitenhof              None  Verzetstrijdersbuurt   \n",
      "1      Delft  11 Binnenstad  Centrum-Zuidwest      Centrum-zuidwest   \n",
      "2      Delft  11 Binnenstad  Centrum-Zuidwest      Centrum-zuidwest   \n",
      "3      Delft   25 Buitenhof              None  Verzetstrijdersbuurt   \n",
      "4      Delft  11 Binnenstad  Centrum-Zuidwest      Centrum-zuidwest   \n",
      "\n",
      "   GEBIEDCODE ELEMENTNUM        BEHEEROBJE                   BEHEERGROE  \\\n",
      "0  01.25.0007          1    01.25.0007.bm1  Niet vrij uitgroeiende boom   \n",
      "1  01.11.0006        206  01.11.0006.bm206  Niet vrij uitgroeiende boom   \n",
      "2  01.11.0006        207  01.11.0006.bm207  Niet vrij uitgroeiende boom   \n",
      "3  01.25.0007          2    01.25.0007.bm2       Vrij uitgroeiende boom   \n",
      "4  01.11.0006        208  01.11.0006.bm208  Niet vrij uitgroeiende boom   \n",
      "\n",
      "                     BOOMSORTIM EXTRA_2  ... BEHEERDER  INSPECTIED  CONDITIE  \\\n",
      "0         Malus cv. (sierappel)   20-30  ...       BOR  2021-12-21     Matig   \n",
      "1  Prunus serrulata 'Amanogawa'    None  ...       BOR  2021-01-11  Redelijk   \n",
      "2  Prunus serrulata 'Amanogawa'    None  ...       BOR  2021-01-11  Redelijk   \n",
      "3                 Tilia cordata  50-100  ...       BOR  2021-12-21     Matig   \n",
      "4  Prunus serrulata 'Amanogawa'    None  ...       BOR  2021-01-11  Redelijk   \n",
      "\n",
      "  BOOMBEELD GEBREKEN_A         CATEGORIE_          GEBREKE_1  \\\n",
      "0  Aanvaard         Ja               None      Geen gebrek()   \n",
      "1  Aanvaard         Ja               None      Geen gebrek()   \n",
      "2  Aanvaard         Ja               None      Geen gebrek()   \n",
      "3  Aanvaard         Ja  Mechanisch defect  Spechtengat(Stam)   \n",
      "4  Aanvaard         Ja               None      Geen gebrek()   \n",
      "\n",
      "                    MAATREGELE VERWACHTE_                      geometry  \n",
      "0                         None    5-10 jr  POINT (82647.305 445059.412)  \n",
      "1                         None   => 10 jr  POINT (84306.122 447065.875)  \n",
      "2                         None   => 10 jr  POINT (84314.363 447050.372)  \n",
      "3  Controlefrequentie verhogen   => 10 jr  POINT (82615.232 444983.030)  \n",
      "4                         None   => 10 jr  POINT (84281.187 447091.785)  \n",
      "\n",
      "[5 rows x 25 columns]\n"
     ]
    }
   ],
   "source": [
    "import geopandas as gpd\n",
    "import pandas as pd\n",
    "# Load the shapefile (this also loads the associated .dbf file)\n",
    "gdf = gpd.read_file(r'C:\\Users\\kuipe\\OneDrive\\Bureaublad\\TU Delft\\Master\\Deep Learning\\Project\\StreetviewCropTypeMapping\\data\\bomen.shp')\n",
    "\n",
    "# Now, gdf contains a GeoDataFrame with your spatial data and labels\n",
    "print(gdf.head())  # Just to check the first few records\n"
   ]
  },
  {
   "cell_type": "code",
   "execution_count": 3,
   "metadata": {},
   "outputs": [
    {
     "data": {
      "text/plain": [
       "Index(['WOONPLAATS', 'WIJK', 'BUURT', 'GROENGEBIE', 'GEBIEDCODE', 'ELEMENTNUM',\n",
       "       'BEHEEROBJE', 'BEHEERGROE', 'BOOMSORTIM', 'EXTRA_2', 'BOOMHOOGTE',\n",
       "       'AANLEGJAAR', 'STANDPLAAT', 'STRAAT', 'EIGENAAR', 'BEHEERDER',\n",
       "       'INSPECTIED', 'CONDITIE', 'BOOMBEELD', 'GEBREKEN_A', 'CATEGORIE_',\n",
       "       'GEBREKE_1', 'MAATREGELE', 'VERWACHTE_', 'geometry'],\n",
       "      dtype='object')"
      ]
     },
     "execution_count": 3,
     "metadata": {},
     "output_type": "execute_result"
    }
   ],
   "source": [
    "gdf.columns"
   ]
  },
  {
   "cell_type": "code",
   "execution_count": 4,
   "metadata": {},
   "outputs": [
    {
     "name": "stdout",
     "output_type": "stream",
     "text": [
      "  WOONPLAATS           WIJK             BUURT            GROENGEBIE  \\\n",
      "0      Delft   25 Buitenhof              None  Verzetstrijdersbuurt   \n",
      "1      Delft  11 Binnenstad  Centrum-Zuidwest      Centrum-zuidwest   \n",
      "2      Delft  11 Binnenstad  Centrum-Zuidwest      Centrum-zuidwest   \n",
      "3      Delft   25 Buitenhof              None  Verzetstrijdersbuurt   \n",
      "4      Delft  11 Binnenstad  Centrum-Zuidwest      Centrum-zuidwest   \n",
      "\n",
      "   GEBIEDCODE ELEMENTNUM        BEHEEROBJE                   BEHEERGROE  \\\n",
      "0  01.25.0007          1    01.25.0007.bm1  Niet vrij uitgroeiende boom   \n",
      "1  01.11.0006        206  01.11.0006.bm206  Niet vrij uitgroeiende boom   \n",
      "2  01.11.0006        207  01.11.0006.bm207  Niet vrij uitgroeiende boom   \n",
      "3  01.25.0007          2    01.25.0007.bm2       Vrij uitgroeiende boom   \n",
      "4  01.11.0006        208  01.11.0006.bm208  Niet vrij uitgroeiende boom   \n",
      "\n",
      "                     BOOMSORTIM EXTRA_2  ... BEHEERDER  INSPECTIED  CONDITIE  \\\n",
      "0         Malus cv. (sierappel)   20-30  ...       BOR  2021-12-21     Matig   \n",
      "1  Prunus serrulata 'Amanogawa'    None  ...       BOR  2021-01-11  Redelijk   \n",
      "2  Prunus serrulata 'Amanogawa'    None  ...       BOR  2021-01-11  Redelijk   \n",
      "3                 Tilia cordata  50-100  ...       BOR  2021-12-21     Matig   \n",
      "4  Prunus serrulata 'Amanogawa'    None  ...       BOR  2021-01-11  Redelijk   \n",
      "\n",
      "  BOOMBEELD GEBREKEN_A         CATEGORIE_          GEBREKE_1  \\\n",
      "0  Aanvaard         Ja               None      Geen gebrek()   \n",
      "1  Aanvaard         Ja               None      Geen gebrek()   \n",
      "2  Aanvaard         Ja               None      Geen gebrek()   \n",
      "3  Aanvaard         Ja  Mechanisch defect  Spechtengat(Stam)   \n",
      "4  Aanvaard         Ja               None      Geen gebrek()   \n",
      "\n",
      "                    MAATREGELE VERWACHTE_                      geometry  \n",
      "0                         None    5-10 jr  POINT (82647.305 445059.412)  \n",
      "1                         None   => 10 jr  POINT (84306.122 447065.875)  \n",
      "2                         None   => 10 jr  POINT (84314.363 447050.372)  \n",
      "3  Controlefrequentie verhogen   => 10 jr  POINT (82615.232 444983.030)  \n",
      "4                         None   => 10 jr  POINT (84281.187 447091.785)  \n",
      "\n",
      "[5 rows x 25 columns]\n"
     ]
    }
   ],
   "source": [
    "import pandas as pd\n",
    "import geopandas as gpd\n",
    "\n",
    "dbf_path = r'C:\\Users\\kuipe\\OneDrive\\Bureaublad\\TU Delft\\Master\\Deep Learning\\Project\\StreetviewCropTypeMapping\\data\\bomen.dbf'\n",
    "dbf_path = r'C:\\Users\\kuipe\\OneDrive\\Bureaublad\\TU Delft\\Master\\Deep Learning\\Project\\StreetviewCropTypeMapping\\data\\bomen.dbf'\n",
    "dbf_data = gpd.read_file(dbf_path)\n",
    "\n",
    "print(dbf_data.head())  # Just to check the first few records\n",
    "\n",
    "\n",
    "\n",
    "# print(df.head())  # Just to check the first few records"
   ]
  },
  {
   "cell_type": "code",
   "execution_count": 5,
   "metadata": {},
   "outputs": [
    {
     "data": {
      "text/plain": [
       "Index(['WOONPLAATS', 'WIJK', 'BUURT', 'GROENGEBIE', 'GEBIEDCODE', 'ELEMENTNUM',\n",
       "       'BEHEEROBJE', 'BEHEERGROE', 'BOOMSORTIM', 'EXTRA_2', 'BOOMHOOGTE',\n",
       "       'AANLEGJAAR', 'STANDPLAAT', 'STRAAT', 'EIGENAAR', 'BEHEERDER',\n",
       "       'INSPECTIED', 'CONDITIE', 'BOOMBEELD', 'GEBREKEN_A', 'CATEGORIE_',\n",
       "       'GEBREKE_1', 'MAATREGELE', 'VERWACHTE_', 'geometry'],\n",
       "      dtype='object')"
      ]
     },
     "execution_count": 5,
     "metadata": {},
     "output_type": "execute_result"
    }
   ],
   "source": [
    "dbf_data.columns"
   ]
  },
  {
   "cell_type": "code",
   "execution_count": 6,
   "metadata": {},
   "outputs": [
    {
     "name": "stdout",
     "output_type": "stream",
     "text": [
      "4.333417727721176 51.9905059135376\n"
     ]
    }
   ],
   "source": [
    "from pyproj import Transformer\n",
    "point = (82620.899, 445204.281)\n",
    "\n",
    "transformer = Transformer.from_crs(f\"EPSG:28992\", \"EPSG:4326\", always_xy=True)\n",
    "\n",
    "# Perform the transformation\n",
    "lon, lat = transformer.transform(point[0], point[1])\n",
    "print(lon, lat)"
   ]
  },
  {
   "cell_type": "code",
   "execution_count": 7,
   "metadata": {},
   "outputs": [
    {
     "name": "stdout",
     "output_type": "stream",
     "text": [
      "0       Matig\n",
      "1    Redelijk\n",
      "2    Redelijk\n",
      "3       Matig\n",
      "4    Redelijk\n",
      "5    Redelijk\n",
      "6       Matig\n",
      "7    Redelijk\n",
      "8    Redelijk\n",
      "9    Redelijk\n",
      "Name: CONDITIE, dtype: object\n"
     ]
    }
   ],
   "source": [
    "print(dbf_data['CONDITIE'].head(10))"
   ]
  },
  {
   "cell_type": "code",
   "execution_count": 8,
   "metadata": {},
   "outputs": [
    {
     "name": "stdout",
     "output_type": "stream",
     "text": [
      "0    POINT (82647.305 445059.412)\n",
      "1    POINT (84306.122 447065.875)\n",
      "2    POINT (84314.363 447050.372)\n",
      "3    POINT (82615.232 444983.030)\n",
      "4    POINT (84281.187 447091.785)\n",
      "5    POINT (84274.766 447104.269)\n",
      "6    POINT (82622.059 444997.747)\n",
      "7    POINT (82620.899 445204.281)\n",
      "8    POINT (82623.557 445208.977)\n",
      "9    POINT (82626.062 445201.581)\n",
      "Name: geometry, dtype: geometry\n"
     ]
    }
   ],
   "source": [
    "print(dbf_data['geometry'].head(10))"
   ]
  },
  {
   "cell_type": "code",
   "execution_count": 9,
   "metadata": {},
   "outputs": [
    {
     "name": "stdout",
     "output_type": "stream",
     "text": [
      "147       Matig\n",
      "148       Matig\n",
      "149       Matig\n",
      "150       Matig\n",
      "151      Slecht\n",
      "152       Matig\n",
      "153       Matig\n",
      "154    Redelijk\n",
      "155    Redelijk\n",
      "156    Redelijk\n",
      "Name: CONDITIE, dtype: object\n",
      "Redelijk\n"
     ]
    }
   ],
   "source": [
    "#Get the value of conditie in row 147 to 157\n",
    "print(dbf_data['CONDITIE'][147:157])\n",
    "print(dbf_data['CONDITIE'][7])"
   ]
  },
  {
   "cell_type": "code",
   "execution_count": 11,
   "metadata": {},
   "outputs": [
    {
     "name": "stdout",
     "output_type": "stream",
     "text": [
      "POINT (82620.899 445204.281)\n"
     ]
    }
   ],
   "source": [
    "print(gdf['geometry'][7])"
   ]
  },
  {
   "cell_type": "code",
   "execution_count": 14,
   "metadata": {},
   "outputs": [
    {
     "data": {
      "text/plain": [
       "0        Matig\n",
       "1     Redelijk\n",
       "2     Redelijk\n",
       "3        Matig\n",
       "4     Redelijk\n",
       "5     Redelijk\n",
       "6        Matig\n",
       "7     Redelijk\n",
       "8     Redelijk\n",
       "9     Redelijk\n",
       "10    Redelijk\n",
       "11    Redelijk\n",
       "12       Matig\n",
       "13       Matig\n",
       "14       Matig\n",
       "15       Matig\n",
       "16       Matig\n",
       "17      Slecht\n",
       "18       Matig\n",
       "19       Matig\n",
       "20    Redelijk\n",
       "21      Slecht\n",
       "22       Matig\n",
       "23    Redelijk\n",
       "24       Matig\n",
       "25       Matig\n",
       "26       Matig\n",
       "27       Matig\n",
       "28       Matig\n",
       "29       Matig\n",
       "Name: CONDITIE, dtype: object"
      ]
     },
     "execution_count": 14,
     "metadata": {},
     "output_type": "execute_result"
    }
   ],
   "source": [
    "gdf = gdf.dropna(subset=['CONDITIE']).reset_index(drop=True)\n",
    "gdf['CONDITIE'].head(30)"
   ]
  },
  {
   "cell_type": "code",
   "execution_count": 3,
   "metadata": {},
   "outputs": [
    {
     "name": "stdout",
     "output_type": "stream",
     "text": [
      "0     2021-12-21\n",
      "1     2021-01-11\n",
      "2     2021-01-11\n",
      "3     2021-12-21\n",
      "4     2021-01-11\n",
      "5     2021-01-11\n",
      "6     2021-12-21\n",
      "7     2021-12-20\n",
      "8     2021-12-20\n",
      "9     2021-12-20\n",
      "10    2021-01-11\n",
      "11    2021-01-11\n",
      "12    2021-12-20\n",
      "13    2021-12-21\n",
      "14    2021-12-21\n",
      "15    2021-12-21\n",
      "16    2021-12-21\n",
      "17    2021-12-21\n",
      "18    2021-12-21\n",
      "19    2021-12-21\n",
      "20    2021-10-22\n",
      "21    2021-12-20\n",
      "22    2021-12-21\n",
      "23    2021-12-20\n",
      "24    2021-12-20\n",
      "25    2021-12-20\n",
      "26    2021-12-20\n",
      "27    2021-12-20\n",
      "28    2021-12-20\n",
      "29    2021-12-20\n",
      "Name: INSPECTIED, dtype: object\n"
     ]
    }
   ],
   "source": [
    "print (gdf['INSPECTIED'].head(30))"
   ]
  },
  {
   "cell_type": "code",
   "execution_count": 11,
   "metadata": {},
   "outputs": [
    {
     "name": "stdout",
     "output_type": "stream",
     "text": [
      "1.0: 5739\n",
      "2.0: 19\n",
      "3.0: 6778\n",
      "4.0: 155\n",
      "5.0: 140\n",
      "6.0: 2\n",
      "7.0: 1\n",
      "8.0: 613\n",
      "9.0: 3151\n",
      "10.0: 5937\n",
      "11.0: 3983\n",
      "12.0: 7808\n"
     ]
    }
   ],
   "source": [
    "gdf['INSPECTIED'] = pd.to_datetime(gdf['INSPECTIED'])\n",
    "\n",
    "# Extract the month and count the occurrences of each unique month\n",
    "month_counts = gdf['INSPECTIED'].dt.month.value_counts().sort_index()\n",
    "\n",
    "# Display the counts with month formatted as '01', '02', etc.\n",
    "for month, count in month_counts.items():\n",
    "    print(f\"{month}: {count}\")"
   ]
  },
  {
   "cell_type": "code",
   "execution_count": null,
   "metadata": {},
   "outputs": [],
   "source": []
  }
 ],
 "metadata": {
  "kernelspec": {
   "display_name": "dlproject",
   "language": "python",
   "name": "python3"
  },
  "language_info": {
   "codemirror_mode": {
    "name": "ipython",
    "version": 3
   },
   "file_extension": ".py",
   "mimetype": "text/x-python",
   "name": "python",
   "nbconvert_exporter": "python",
   "pygments_lexer": "ipython3",
   "version": "3.10.14"
  }
 },
 "nbformat": 4,
 "nbformat_minor": 2
}
