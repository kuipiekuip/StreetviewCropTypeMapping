{
 "cells": [
  {
   "cell_type": "code",
   "execution_count": 1,
   "metadata": {},
   "outputs": [
    {
     "name": "stdout",
     "output_type": "stream",
     "text": [
      "  WOONPLAATS           WIJK             BUURT            GROENGEBIE  \\\n",
      "0      Delft   25 Buitenhof              None  Verzetstrijdersbuurt   \n",
      "1      Delft  11 Binnenstad  Centrum-Zuidwest      Centrum-zuidwest   \n",
      "2      Delft  11 Binnenstad  Centrum-Zuidwest      Centrum-zuidwest   \n",
      "3      Delft   25 Buitenhof              None  Verzetstrijdersbuurt   \n",
      "4      Delft  11 Binnenstad  Centrum-Zuidwest      Centrum-zuidwest   \n",
      "\n",
      "   GEBIEDCODE ELEMENTNUM        BEHEEROBJE                   BEHEERGROE  \\\n",
      "0  01.25.0007          1    01.25.0007.bm1  Niet vrij uitgroeiende boom   \n",
      "1  01.11.0006        206  01.11.0006.bm206  Niet vrij uitgroeiende boom   \n",
      "2  01.11.0006        207  01.11.0006.bm207  Niet vrij uitgroeiende boom   \n",
      "3  01.25.0007          2    01.25.0007.bm2       Vrij uitgroeiende boom   \n",
      "4  01.11.0006        208  01.11.0006.bm208  Niet vrij uitgroeiende boom   \n",
      "\n",
      "                     BOOMSORTIM EXTRA_2  ... BEHEERDER  INSPECTIED  CONDITIE  \\\n",
      "0         Malus cv. (sierappel)   20-30  ...       BOR  2021-12-21     Matig   \n",
      "1  Prunus serrulata 'Amanogawa'    None  ...       BOR  2021-01-11  Redelijk   \n",
      "2  Prunus serrulata 'Amanogawa'    None  ...       BOR  2021-01-11  Redelijk   \n",
      "3                 Tilia cordata  50-100  ...       BOR  2021-12-21     Matig   \n",
      "4  Prunus serrulata 'Amanogawa'    None  ...       BOR  2021-01-11  Redelijk   \n",
      "\n",
      "  BOOMBEELD GEBREKEN_A         CATEGORIE_          GEBREKE_1  \\\n",
      "0  Aanvaard         Ja               None      Geen gebrek()   \n",
      "1  Aanvaard         Ja               None      Geen gebrek()   \n",
      "2  Aanvaard         Ja               None      Geen gebrek()   \n",
      "3  Aanvaard         Ja  Mechanisch defect  Spechtengat(Stam)   \n",
      "4  Aanvaard         Ja               None      Geen gebrek()   \n",
      "\n",
      "                    MAATREGELE VERWACHTE_                      geometry  \n",
      "0                         None    5-10 jr  POINT (82647.305 445059.412)  \n",
      "1                         None   => 10 jr  POINT (84306.122 447065.875)  \n",
      "2                         None   => 10 jr  POINT (84314.363 447050.372)  \n",
      "3  Controlefrequentie verhogen   => 10 jr  POINT (82615.232 444983.030)  \n",
      "4                         None   => 10 jr  POINT (84281.187 447091.785)  \n",
      "\n",
      "[5 rows x 25 columns]\n"
     ]
    }
   ],
   "source": [
    "import geopandas as gpd\n",
    "\n",
    "# Load the shapefile (this also loads the associated .dbf file)\n",
    "gdf = gpd.read_file(r'C:\\Users\\kuipe\\OneDrive\\Bureaublad\\TU Delft\\Master\\Deep Learning\\Project\\StreetviewCropTypeMapping\\data\\bomen.shp')\n",
    "\n",
    "# Now, gdf contains a GeoDataFrame with your spatial data and labels\n",
    "print(gdf.head())  # Just to check the first few records\n"
   ]
  },
  {
   "cell_type": "code",
   "execution_count": 2,
   "metadata": {},
   "outputs": [
    {
     "data": {
      "text/plain": [
       "Index(['WOONPLAATS', 'WIJK', 'BUURT', 'GROENGEBIE', 'GEBIEDCODE', 'ELEMENTNUM',\n",
       "       'BEHEEROBJE', 'BEHEERGROE', 'BOOMSORTIM', 'EXTRA_2', 'BOOMHOOGTE',\n",
       "       'AANLEGJAAR', 'STANDPLAAT', 'STRAAT', 'EIGENAAR', 'BEHEERDER',\n",
       "       'INSPECTIED', 'CONDITIE', 'BOOMBEELD', 'GEBREKEN_A', 'CATEGORIE_',\n",
       "       'GEBREKE_1', 'MAATREGELE', 'VERWACHTE_', 'geometry'],\n",
       "      dtype='object')"
      ]
     },
     "execution_count": 2,
     "metadata": {},
     "output_type": "execute_result"
    }
   ],
   "source": [
    "gdf.columns"
   ]
  },
  {
   "cell_type": "code",
   "execution_count": 5,
   "metadata": {},
   "outputs": [
    {
     "name": "stdout",
     "output_type": "stream",
     "text": [
      "  WOONPLAATS           WIJK             BUURT            GROENGEBIE  \\\n",
      "0      Delft   25 Buitenhof              None  Verzetstrijdersbuurt   \n",
      "1      Delft  11 Binnenstad  Centrum-Zuidwest      Centrum-zuidwest   \n",
      "2      Delft  11 Binnenstad  Centrum-Zuidwest      Centrum-zuidwest   \n",
      "3      Delft   25 Buitenhof              None  Verzetstrijdersbuurt   \n",
      "4      Delft  11 Binnenstad  Centrum-Zuidwest      Centrum-zuidwest   \n",
      "\n",
      "   GEBIEDCODE ELEMENTNUM        BEHEEROBJE                   BEHEERGROE  \\\n",
      "0  01.25.0007          1    01.25.0007.bm1  Niet vrij uitgroeiende boom   \n",
      "1  01.11.0006        206  01.11.0006.bm206  Niet vrij uitgroeiende boom   \n",
      "2  01.11.0006        207  01.11.0006.bm207  Niet vrij uitgroeiende boom   \n",
      "3  01.25.0007          2    01.25.0007.bm2       Vrij uitgroeiende boom   \n",
      "4  01.11.0006        208  01.11.0006.bm208  Niet vrij uitgroeiende boom   \n",
      "\n",
      "                     BOOMSORTIM EXTRA_2  ... BEHEERDER  INSPECTIED  CONDITIE  \\\n",
      "0         Malus cv. (sierappel)   20-30  ...       BOR  2021-12-21     Matig   \n",
      "1  Prunus serrulata 'Amanogawa'    None  ...       BOR  2021-01-11  Redelijk   \n",
      "2  Prunus serrulata 'Amanogawa'    None  ...       BOR  2021-01-11  Redelijk   \n",
      "3                 Tilia cordata  50-100  ...       BOR  2021-12-21     Matig   \n",
      "4  Prunus serrulata 'Amanogawa'    None  ...       BOR  2021-01-11  Redelijk   \n",
      "\n",
      "  BOOMBEELD GEBREKEN_A         CATEGORIE_          GEBREKE_1  \\\n",
      "0  Aanvaard         Ja               None      Geen gebrek()   \n",
      "1  Aanvaard         Ja               None      Geen gebrek()   \n",
      "2  Aanvaard         Ja               None      Geen gebrek()   \n",
      "3  Aanvaard         Ja  Mechanisch defect  Spechtengat(Stam)   \n",
      "4  Aanvaard         Ja               None      Geen gebrek()   \n",
      "\n",
      "                    MAATREGELE VERWACHTE_                      geometry  \n",
      "0                         None    5-10 jr  POINT (82647.305 445059.412)  \n",
      "1                         None   => 10 jr  POINT (84306.122 447065.875)  \n",
      "2                         None   => 10 jr  POINT (84314.363 447050.372)  \n",
      "3  Controlefrequentie verhogen   => 10 jr  POINT (82615.232 444983.030)  \n",
      "4                         None   => 10 jr  POINT (84281.187 447091.785)  \n",
      "\n",
      "[5 rows x 25 columns]\n"
     ]
    },
    {
     "ename": "NameError",
     "evalue": "name 'df' is not defined",
     "output_type": "error",
     "traceback": [
      "\u001b[1;31m---------------------------------------------------------------------------\u001b[0m",
      "\u001b[1;31mNameError\u001b[0m                                 Traceback (most recent call last)",
      "Cell \u001b[1;32mIn[5], line 12\u001b[0m\n\u001b[0;32m      6\u001b[0m dbf_data \u001b[38;5;241m=\u001b[39m gpd\u001b[38;5;241m.\u001b[39mread_file(dbf_path)\n\u001b[0;32m      8\u001b[0m \u001b[38;5;28mprint\u001b[39m(dbf_data\u001b[38;5;241m.\u001b[39mhead())  \u001b[38;5;66;03m# Just to check the first few records\u001b[39;00m\n\u001b[1;32m---> 12\u001b[0m \u001b[38;5;28mprint\u001b[39m(\u001b[43mdf\u001b[49m\u001b[38;5;241m.\u001b[39mhead())\n",
      "\u001b[1;31mNameError\u001b[0m: name 'df' is not defined"
     ]
    }
   ],
   "source": [
    "import pandas as pd\n",
    "import geopandas as gpd\n",
    "\n",
    "dbf_path = r'C:\\Users\\kuipe\\OneDrive\\Bureaublad\\TU Delft\\Master\\Deep Learning\\Project\\StreetviewCropTypeMapping\\data\\bomen.dbf'\n",
    "dbf_path = r'C:\\Users\\kuipe\\OneDrive\\Bureaublad\\TU Delft\\Master\\Deep Learning\\Project\\StreetviewCropTypeMapping\\data\\bomen.dbf'\n",
    "dbf_data = gpd.read_file(dbf_path)\n",
    "\n",
    "print(dbf_data.head())  # Just to check the first few records\n",
    "\n",
    "\n",
    "\n",
    "# print(df.head())  # Just to check the first few records"
   ]
  },
  {
   "cell_type": "code",
   "execution_count": 6,
   "metadata": {},
   "outputs": [
    {
     "data": {
      "text/plain": [
       "Index(['WOONPLAATS', 'WIJK', 'BUURT', 'GROENGEBIE', 'GEBIEDCODE', 'ELEMENTNUM',\n",
       "       'BEHEEROBJE', 'BEHEERGROE', 'BOOMSORTIM', 'EXTRA_2', 'BOOMHOOGTE',\n",
       "       'AANLEGJAAR', 'STANDPLAAT', 'STRAAT', 'EIGENAAR', 'BEHEERDER',\n",
       "       'INSPECTIED', 'CONDITIE', 'BOOMBEELD', 'GEBREKEN_A', 'CATEGORIE_',\n",
       "       'GEBREKE_1', 'MAATREGELE', 'VERWACHTE_', 'geometry'],\n",
       "      dtype='object')"
      ]
     },
     "execution_count": 6,
     "metadata": {},
     "output_type": "execute_result"
    }
   ],
   "source": [
    "dbf_data.columns"
   ]
  },
  {
   "cell_type": "code",
   "execution_count": 12,
   "metadata": {},
   "outputs": [
    {
     "name": "stdout",
     "output_type": "stream",
     "text": [
      "4.333417727721176 51.9905059135376\n"
     ]
    }
   ],
   "source": [
    "from pyproj import Transformer\n",
    "point = (82620.899, 445204.281)\n",
    "\n",
    "transformer = Transformer.from_crs(f\"EPSG:28992\", \"EPSG:4326\", always_xy=True)\n",
    "\n",
    "# Perform the transformation\n",
    "lon, lat = transformer.transform(point[0], point[1])\n",
    "print(lon, lat)"
   ]
  },
  {
   "cell_type": "code",
   "execution_count": 10,
   "metadata": {},
   "outputs": [
    {
     "name": "stdout",
     "output_type": "stream",
     "text": [
      "0       Matig\n",
      "1    Redelijk\n",
      "2    Redelijk\n",
      "3       Matig\n",
      "4    Redelijk\n",
      "5    Redelijk\n",
      "6       Matig\n",
      "7    Redelijk\n",
      "8    Redelijk\n",
      "9    Redelijk\n",
      "Name: CONDITIE, dtype: object\n"
     ]
    }
   ],
   "source": [
    "print(dbf_data['CONDITIE'].head(10))"
   ]
  },
  {
   "cell_type": "code",
   "execution_count": 11,
   "metadata": {},
   "outputs": [
    {
     "name": "stdout",
     "output_type": "stream",
     "text": [
      "0    POINT (82647.305 445059.412)\n",
      "1    POINT (84306.122 447065.875)\n",
      "2    POINT (84314.363 447050.372)\n",
      "3    POINT (82615.232 444983.030)\n",
      "4    POINT (84281.187 447091.785)\n",
      "5    POINT (84274.766 447104.269)\n",
      "6    POINT (82622.059 444997.747)\n",
      "7    POINT (82620.899 445204.281)\n",
      "8    POINT (82623.557 445208.977)\n",
      "9    POINT (82626.062 445201.581)\n",
      "Name: geometry, dtype: geometry\n"
     ]
    }
   ],
   "source": [
    "print(dbf_data['geometry'].head(10))"
   ]
  },
  {
   "cell_type": "code",
   "execution_count": 15,
   "metadata": {},
   "outputs": [
    {
     "name": "stdout",
     "output_type": "stream",
     "text": [
      "147       Matig\n",
      "148       Matig\n",
      "149       Matig\n",
      "150       Matig\n",
      "151      Slecht\n",
      "152       Matig\n",
      "153       Matig\n",
      "154    Redelijk\n",
      "155    Redelijk\n",
      "156    Redelijk\n",
      "Name: CONDITIE, dtype: object\n"
     ]
    }
   ],
   "source": [
    "#Get the value of conditie in row 147 to 157\n",
    "print(dbf_data['CONDITIE'][147:157])\n",
    "# print(dbf_data['CONDITIE'][7])"
   ]
  },
  {
   "cell_type": "code",
   "execution_count": null,
   "metadata": {},
   "outputs": [],
   "source": []
  }
 ],
 "metadata": {
  "kernelspec": {
   "display_name": "dlproject",
   "language": "python",
   "name": "python3"
  },
  "language_info": {
   "codemirror_mode": {
    "name": "ipython",
    "version": 3
   },
   "file_extension": ".py",
   "mimetype": "text/x-python",
   "name": "python",
   "nbconvert_exporter": "python",
   "pygments_lexer": "ipython3",
   "version": "3.10.14"
  }
 },
 "nbformat": 4,
 "nbformat_minor": 2
}
